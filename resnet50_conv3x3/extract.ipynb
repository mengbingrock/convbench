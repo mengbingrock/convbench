{
 "cells": [
  {
   "cell_type": "code",
   "execution_count": 1,
   "metadata": {},
   "outputs": [],
   "source": [
    "import torch\n",
    "import torchvision\n",
    "import numpy as np"
   ]
  },
  {
   "cell_type": "code",
   "execution_count": 2,
   "metadata": {},
   "outputs": [],
   "source": [
    "class Collector:\n",
    "    def __init__(self):\n",
    "        self.ret = []\n",
    "    \n",
    "    def filter_(self, m):\n",
    "        return isinstance(m, torch.nn.Conv2d) and \\\n",
    "                m.stride == (1, 1) and \\\n",
    "                m.kernel_size == (3, 3)\n",
    "\n",
    "    def hook(self, m, in_, out_):\n",
    "        if self.filter_(m):\n",
    "            tmp = (m, in_[0].shape[2:], out_.shape[2:])\n",
    "            self.ret.append(tmp)\n",
    "\n",
    "    def register(self, m):\n",
    "        if not m._modules:\n",
    "            m.register_forward_hook(self.hook)"
   ]
  },
  {
   "cell_type": "code",
   "execution_count": 3,
   "metadata": {
    "scrolled": false
   },
   "outputs": [
    {
     "name": "stderr",
     "output_type": "stream",
     "text": [
      "Downloading: \"https://download.pytorch.org/models/resnet50-0676ba61.pth\" to /home/ubuntu/.cache/torch/hub/checkpoints/resnet50-0676ba61.pth\n"
     ]
    },
    {
     "data": {
      "application/vnd.jupyter.widget-view+json": {
       "model_id": "1845b003fac14b0ebbe570288da6b682",
       "version_major": 2,
       "version_minor": 0
      },
      "text/plain": [
       "  0%|          | 0.00/97.8M [00:00<?, ?B/s]"
      ]
     },
     "metadata": {},
     "output_type": "display_data"
    }
   ],
   "source": [
    "m = torchvision.models.resnet.resnet50(True)\n",
    "inp = torch.rand(1, 3, 512, 512)\n",
    "c = Collector()\n",
    "m.apply(c.register)\n",
    "m(inp); None"
   ]
  },
  {
   "cell_type": "code",
   "execution_count": 25,
   "metadata": {},
   "outputs": [],
   "source": [
    "tmp = []\n",
    "\n",
    "with open('resnet50_conv3x3_fmt.txt', 'w') as f:\n",
    "    print(len(c.ret), file=f)\n",
    "    for i, (m, *_) in enumerate(c.ret, 1):\n",
    "        w = m.weight.detach().numpy()\n",
    "        tmp.append(w.reshape(-1))\n",
    "        print(*w.shape, file=f)\n",
    "\n",
    "np.concatenate(tmp).tofile('resnet50_conv3x3_dat.bin')"
   ]
  },
  {
   "cell_type": "code",
   "execution_count": 37,
   "metadata": {},
   "outputs": [
    {
     "name": "stdout",
     "output_type": "stream",
     "text": [
      "(2.0918651255641407e-09, -1.4151557703456774e-09, 6.584983669455369e-09, 4.792239494122441e-09, 3.2818754380770088e-09, 9.428415825851744e-10, 6.476260860921457e-09, -3.0155689056954316e-09, -2.3958237616028555e-09)\n",
      "tensor([ 2.0919e-09, -1.4152e-09,  6.5850e-09], grad_fn=<SliceBackward>)\n"
     ]
    }
   ],
   "source": [
    "import struct\n",
    "with open('resnet50_conv3x3_dat.bin', 'rb') as f:\n",
    "    dat = f.read(64*64*3*3*4)\n",
    "    print(struct.unpack_from('@fffffffff', dat, 0))\n",
    "    print(c.ret[0][0].weight[0,0,0,:])"
   ]
  },
  {
   "cell_type": "code",
   "execution_count": 30,
   "metadata": {},
   "outputs": [],
   "source": [
    "struct?"
   ]
  },
  {
   "cell_type": "code",
   "execution_count": null,
   "metadata": {},
   "outputs": [],
   "source": []
  }
 ],
 "metadata": {
  "kernelspec": {
   "display_name": "Python 3 (ipykernel)",
   "language": "python",
   "name": "python3"
  },
  "language_info": {
   "codemirror_mode": {
    "name": "ipython",
    "version": 3
   },
   "file_extension": ".py",
   "mimetype": "text/x-python",
   "name": "python",
   "nbconvert_exporter": "python",
   "pygments_lexer": "ipython3",
   "version": "3.7.11"
  }
 },
 "nbformat": 4,
 "nbformat_minor": 4
}
