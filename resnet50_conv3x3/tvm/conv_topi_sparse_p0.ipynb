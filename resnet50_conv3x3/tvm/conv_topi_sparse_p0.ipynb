{
 "cells": [
  {
   "cell_type": "code",
   "execution_count": 1,
   "id": "83ed5e3c",
   "metadata": {},
   "outputs": [],
   "source": [
    "import scipy.sparse\n",
    "import numpy as np\n",
    "import tvm\n",
    "from tvm.rpc import RPCSession\n",
    "\n",
    "def make_bsr_sparse(dense, sprate, blocksize):\n",
    "    bsrdata = scipy.sparse.bsr_matrix(dense, blocksize=blocksize)\n",
    "    # find partition value\n",
    "    summed = bsrdata.data.sum((1, 2))\n",
    "    idx = int(sprate * len(summed) + 0.5)\n",
    "    val = np.partition(summed, idx)[idx]\n",
    "    # filter the data\n",
    "    data, indices, indptr, bsrWid = [], [], [], bsrdata.indptr[1]\n",
    "    for idx, (block, indval) in enumerate(zip(bsrdata.data, bsrdata.indices)):\n",
    "        if idx % bsrWid == 0:\n",
    "            indptr.append(len(data))\n",
    "        if block.sum() >= val:\n",
    "            data.append(block)\n",
    "            indices.append(indval)\n",
    "    indptr.append(len(data))\n",
    "    # convert format\n",
    "    bsrdata2 = tuple([np.array(i) for i in [data, indices, indptr]])\n",
    "    return scipy.sparse.bsr_matrix(bsrdata2, shape=dense.shape)\n",
    "\n",
    "\n",
    "def unpack_bsr(bsrdata):\n",
    "    return bsrdata.data, bsrdata.indices, bsrdata.indptr\n",
    "\n",
    "\n",
    "def hook_method(obj, attr):\n",
    "    def real_decorator(func):\n",
    "        orig = getattr(obj, attr)\n",
    "        setattr(obj, attr, func)\n",
    "        func.orig = orig\n",
    "        func.revert = lambda: setattr(obj, attr, orig)\n",
    "        return func\n",
    "    return real_decorator\n",
    "\n",
    "\n",
    "class NonRandomFill:\n",
    "    srclst_ = []\n",
    "    \n",
    "    @classmethod\n",
    "    def set_srclst(cls, srclst):\n",
    "        cls.srclst_ = [tvm.nd.array(it) for it in srclst]\n",
    "\n",
    "    def __init__(self):\n",
    "        self.srclst = iter(self.srclst_)\n",
    "    \n",
    "    def __call__(self, tgt):\n",
    "        src = next(self.srclst)\n",
    "        tgt.copyfrom(src)\n",
    "\n",
    "\n",
    "@hook_method(RPCSession, 'get_function')\n",
    "def new_get_function(self, fname):\n",
    "    if fname == 'tvm.contrib.random.random_fill':\n",
    "        return NonRandomFill()\n",
    "    else:\n",
    "        return new_get_function.orig(self, fname)"
   ]
  },
  {
   "cell_type": "code",
   "execution_count": 2,
   "id": "ae347ca2",
   "metadata": {},
   "outputs": [
    {
     "data": {
      "text/plain": [
       "'print(\"args=\",args)\\nprint(\"nhwc_data=\",nhwc_data)\\n#print(\"spweight_ohwi.data=\",spweight_ohwi.data)\\nprint(spweight_ohwi.nnz)\\nprint(spweight_ohwi.data)\\nprint(spweight_ohwi.indices)\\nprint(spweight_ohwi.indptr)'"
      ]
     },
     "execution_count": 2,
     "metadata": {},
     "output_type": "execute_result"
    }
   ],
   "source": [
    "import tvm\n",
    "import numpy as np\n",
    "from tvm import autotvm, te, tir\n",
    "from functools import partial, reduce\n",
    "N, H, W, CI = 1, 28, 28, 64\n",
    "CO = 64\n",
    "Y, X, K = N*H*W, CO, 9*CI\n",
    "Yout = N*(H-2)*(W-2)\n",
    "sprate = 0.9\n",
    "nhwc_data = np.random.randint(0, 256, (N, H, W, CI)).astype('float32')\n",
    "weight_ohwi = np.random.rand(CO, 3*3*CI).astype('float32')\n",
    "spweight_ohwi = make_bsr_sparse(weight_ohwi, sprate, (4, 1))  \n",
    "ret = np.zeros((N*H*W, CO), dtype='float32')\n",
    "\n",
    "\n",
    "nElems, bsrR, bsrC = spweight_ohwi.data.shape\n",
    "args = (N, H, W, CI, CO, *spweight_ohwi.data.shape, 'float32')\n",
    "\n",
    "\"\"\"print(\"args=\",args)\n",
    "print(\"nhwc_data=\",nhwc_data)\n",
    "#print(\"spweight_ohwi.data=\",spweight_ohwi.data)\n",
    "print(spweight_ohwi.nnz)\n",
    "print(spweight_ohwi.data)\n",
    "print(spweight_ohwi.indices)\n",
    "print(spweight_ohwi.indptr)\"\"\""
   ]
  },
  {
   "cell_type": "code",
   "execution_count": 3,
   "id": "ce2b3d03",
   "metadata": {},
   "outputs": [
    {
     "name": "stderr",
     "output_type": "stream",
     "text": [
      "Cannot find config for target=None, workload=None. A fallback configuration is used, which may bring great performance regression.\n"
     ]
    }
   ],
   "source": [
    "#def spconv2d_3x3_gemm(N, H, W, CI, CO, nElems, bsrR, bsrC, dtype='float32'):\n",
    "dtype = 'float32'\n",
    "Y, X, K = N*H*W, CO, 9*CI\n",
    "cfg = autotvm.get_config()\n",
    "cfg.define_split(\"tile_y\", Y, num_outputs=3)\n",
    "cfg.define_split(\"tile_x\", X // bsrR, num_outputs=2)\n",
    "cfg.add_flop(Y * (nElems * bsrC * bsrR * 2 - X))\n",
    "#cfg.define_split(\"tile_k\", K, num_outputs=2)\n",
    "if cfg.is_fallback:\n",
    "    cfg['tile_y'] = autotvm.task.space.SplitEntity([-1, 160, 8])\n",
    "    cfg['tile_x'] = autotvm.task.space.SplitEntity([-1, 4])\n",
    "\n",
    "Data = te.placeholder((N, H, W, CI), dtype=dtype, name='Data')\n",
    "Wdat = te.placeholder((nElems, bsrR, bsrC), name='Wdat')\n",
    "Wind = te.placeholder((nElems,), dtype='int', name='Wind')\n",
    "Wptr = te.placeholder((X // bsrR + 1,), dtype='int', name='Wptr')\n",
    "idxsplit = lambda x,y: reduce(lambda a,b: a[:-1]+[a[-1]%b,a[-1]//b], y, [x])\n",
    "\n",
    "@partial(te.compute, (Y, K), name='Im2Col')\n",
    "def Im2Col(row, col):\n",
    "    jw, jh, jn = idxsplit(row, [W, H])\n",
    "    jc, kw, kh = idxsplit(col, [CI, 3])\n",
    "    ih, iw = jh + kh , jw + kw\n",
    "    return tir.if_then_else(\n",
    "        tir.all(0 <= ih, ih < H, 0 <= iw, iw < W),\n",
    "        Data[jn, ih, iw, jc], 0)\n",
    "\n",
    "@partial(te.compute, (Y, X // bsrR, bsrR, bsrC), name='CC')\n",
    "def CC(drow, wrow, brow, bcol):\n",
    "    row_start, row_end = Wptr[wrow], Wptr[wrow+1]\n",
    "    elem_idx = te.reduce_axis((0, row_end - row_start), name='elem_idx')\n",
    "    elem = row_start + elem_idx\n",
    "    return te.sum(Im2Col[drow, Wind[elem]*bsrC + bcol] * Wdat[elem, brow, bcol], axis=elem_idx)\n",
    "\n",
    "k = te.reduce_axis((0, bsrC), name='k')\n",
    "C = te.compute((Yout, X), lambda y, x: te.sum(CC[y, x // bsrR, x % bsrR, k], axis=k), name='C')\n",
    "\n",
    "s = te.create_schedule(C.op)\n",
    "y, x = s[C].op.axis\n",
    "yt, yo, yi = cfg['tile_y'].apply(s, C, y)\n",
    "xo, xi = s[C].split(x, factor=bsrR)\n",
    "xt, xo = cfg['tile_x'].apply(s, C, xo)\n",
    "(k,) = s[C].op.reduce_axis\n",
    "s[C].reorder(yt, xt, yo, xo, yi, xi, k)\n",
    "s[C].unroll(k)\n",
    "s[C].vectorize(xi)\n",
    "s[C].unroll(yi)\n",
    "\n",
    "s[CC].compute_at(s[C], xo)\n",
    "yi, xi, r, c = s[CC].op.axis\n",
    "(k,) = s[CC].op.reduce_axis\n",
    "s[CC].reorder(xi, k, yi, r, c)\n",
    "s[CC].unroll(c)\n",
    "s[CC].vectorize(r)\n",
    "s[CC].unroll(yi)\n",
    "\n",
    "s[Im2Col].compute_at(s[C], yo)\n",
    "yi, k = s[Im2Col].op.axis\n",
    "ko, ki = s[Im2Col].split(k, factor=CI)\n",
    "s[Im2Col].vectorize(ki)\n",
    "#s[Im2Col].unroll(yi)\n",
    "#return s, [Data, Wdat, Wind, Wptr, C]"
   ]
  },
  {
   "cell_type": "code",
   "execution_count": 4,
   "id": "a55941b6",
   "metadata": {},
   "outputs": [
    {
     "name": "stdout",
     "output_type": "stream",
     "text": [
      "@main = primfn(Data_1: handle, Wdat_1: handle, Wind_1: handle, Wptr_1: handle, C_1: handle) -> ()\n",
      "  attr = {\"from_legacy_te_schedule\": True, \"global_symbol\": \"main\", \"tir.noalias\": True}\n",
      "  buffers = {C: Buffer(C_2: Pointer(float32), float32, [676, 64], []),\n",
      "             Wdat: Buffer(Wdat_2: Pointer(float32), float32, [922, 4, 1], []),\n",
      "             Data: Buffer(Data_2: Pointer(float32), float32, [1, 28, 28, 64], []),\n",
      "             Wind: Buffer(Wind_2: Pointer(int32), int32, [922], []),\n",
      "             Wptr: Buffer(Wptr_2: Pointer(int32), int32, [17], [])}\n",
      "  buffer_map = {Wptr_1: Wptr, Wind_1: Wind, Data_1: Data, Wdat_1: Wdat, C_1: C} {\n",
      "  allocate(Im2Col: Pointer(global float32), float32, [4608]), storage_scope = global;\n",
      "  allocate(CC: Pointer(global float32x4), float32x4, [8]), storage_scope = global;\n",
      "  for (x.outer.outer: int32, 0, 4) {\n",
      "    for (y.inner.outer: int32, 0, 85) {\n",
      "      for (row: int32, 0, 8) {\n",
      "        for (col.outer: int32, 0, 9) {\n",
      "          Im2Col[ramp(((row*576) + (col.outer*64)), 1, 64)] = @tir.if_then_else(((floormod(((y.inner.outer*8) + row), 28) + floormod(col.outer, 3)) < 28), (float32x64*)Data_2[ramp(((((floordiv(col.outer, 3)*1792) + (y.inner.outer*512)) + (row*64)) + (floormod(col.outer, 3)*64)), 1, 64)], broadcast(0f32, 64), dtype=float32x64)\n",
      "        }\n",
      "      }\n",
      "      for (x.outer.inner: int32, 0, 4) {\n",
      "        CC[ramp(0, 1, 4)] = broadcast(0f32, 4)\n",
      "        CC[ramp(4, 1, 4)] = broadcast(0f32, 4)\n",
      "        CC[ramp(8, 1, 4)] = broadcast(0f32, 4)\n",
      "        CC[ramp(12, 1, 4)] = broadcast(0f32, 4)\n",
      "        CC[ramp(16, 1, 4)] = broadcast(0f32, 4)\n",
      "        CC[ramp(20, 1, 4)] = broadcast(0f32, 4)\n",
      "        CC[ramp(24, 1, 4)] = broadcast(0f32, 4)\n",
      "        CC[ramp(28, 1, 4)] = broadcast(0f32, 4)\n",
      "        for (elem_idx: int32, 0, ((int32*)Wptr_2[(((x.outer.outer*4) + x.outer.inner) + 1)] - (int32*)Wptr_2[((x.outer.outer*4) + x.outer.inner)])) {\n",
      "          CC[ramp(0, 1, 4)] = ((float32x4*)CC[ramp(0, 1, 4)] + (broadcast((float32*)Im2Col[(int32*)Wind_2[((int32*)Wptr_2[((x.outer.outer*4) + x.outer.inner)] + elem_idx)]], 4)*(float32x4*)Wdat_2[ramp((((int32*)Wptr_2[((x.outer.outer*4) + x.outer.inner)]*4) + (elem_idx*4)), 1, 4)]))\n",
      "          CC[ramp(4, 1, 4)] = ((float32x4*)CC[ramp(4, 1, 4)] + (broadcast((float32*)Im2Col[((int32*)Wind_2[((int32*)Wptr_2[((x.outer.outer*4) + x.outer.inner)] + elem_idx)] + 576)], 4)*(float32x4*)Wdat_2[ramp((((int32*)Wptr_2[((x.outer.outer*4) + x.outer.inner)]*4) + (elem_idx*4)), 1, 4)]))\n",
      "          CC[ramp(8, 1, 4)] = ((float32x4*)CC[ramp(8, 1, 4)] + (broadcast((float32*)Im2Col[((int32*)Wind_2[((int32*)Wptr_2[((x.outer.outer*4) + x.outer.inner)] + elem_idx)] + 1152)], 4)*(float32x4*)Wdat_2[ramp((((int32*)Wptr_2[((x.outer.outer*4) + x.outer.inner)]*4) + (elem_idx*4)), 1, 4)]))\n",
      "          CC[ramp(12, 1, 4)] = ((float32x4*)CC[ramp(12, 1, 4)] + (broadcast((float32*)Im2Col[((int32*)Wind_2[((int32*)Wptr_2[((x.outer.outer*4) + x.outer.inner)] + elem_idx)] + 1728)], 4)*(float32x4*)Wdat_2[ramp((((int32*)Wptr_2[((x.outer.outer*4) + x.outer.inner)]*4) + (elem_idx*4)), 1, 4)]))\n",
      "          CC[ramp(16, 1, 4)] = ((float32x4*)CC[ramp(16, 1, 4)] + (broadcast((float32*)Im2Col[((int32*)Wind_2[((int32*)Wptr_2[((x.outer.outer*4) + x.outer.inner)] + elem_idx)] + 2304)], 4)*(float32x4*)Wdat_2[ramp((((int32*)Wptr_2[((x.outer.outer*4) + x.outer.inner)]*4) + (elem_idx*4)), 1, 4)]))\n",
      "          CC[ramp(20, 1, 4)] = ((float32x4*)CC[ramp(20, 1, 4)] + (broadcast((float32*)Im2Col[((int32*)Wind_2[((int32*)Wptr_2[((x.outer.outer*4) + x.outer.inner)] + elem_idx)] + 2880)], 4)*(float32x4*)Wdat_2[ramp((((int32*)Wptr_2[((x.outer.outer*4) + x.outer.inner)]*4) + (elem_idx*4)), 1, 4)]))\n",
      "          CC[ramp(24, 1, 4)] = ((float32x4*)CC[ramp(24, 1, 4)] + (broadcast((float32*)Im2Col[((int32*)Wind_2[((int32*)Wptr_2[((x.outer.outer*4) + x.outer.inner)] + elem_idx)] + 3456)], 4)*(float32x4*)Wdat_2[ramp((((int32*)Wptr_2[((x.outer.outer*4) + x.outer.inner)]*4) + (elem_idx*4)), 1, 4)]))\n",
      "          CC[ramp(28, 1, 4)] = ((float32x4*)CC[ramp(28, 1, 4)] + (broadcast((float32*)Im2Col[((int32*)Wind_2[((int32*)Wptr_2[((x.outer.outer*4) + x.outer.inner)] + elem_idx)] + 4032)], 4)*(float32x4*)Wdat_2[ramp((((int32*)Wptr_2[((x.outer.outer*4) + x.outer.inner)]*4) + (elem_idx*4)), 1, 4)]))\n",
      "        }\n",
      "        C_2[ramp((((y.inner.outer*512) + (x.outer.outer*16)) + (x.outer.inner*4)), 1, 4)] = broadcast(0f32, 4)\n",
      "        C_2[ramp((((y.inner.outer*512) + (x.outer.outer*16)) + (x.outer.inner*4)), 1, 4)] = ((float32x4*)C_2[ramp((((y.inner.outer*512) + (x.outer.outer*16)) + (x.outer.inner*4)), 1, 4)] + (float32x4*)CC[ramp(0, 1, 4)])\n",
      "        C_2[ramp(((((y.inner.outer*512) + (x.outer.outer*16)) + (x.outer.inner*4)) + 64), 1, 4)] = broadcast(0f32, 4)\n",
      "        C_2[ramp(((((y.inner.outer*512) + (x.outer.outer*16)) + (x.outer.inner*4)) + 64), 1, 4)] = ((float32x4*)C_2[ramp(((((y.inner.outer*512) + (x.outer.outer*16)) + (x.outer.inner*4)) + 64), 1, 4)] + (float32x4*)CC[ramp(4, 1, 4)])\n",
      "        C_2[ramp(((((y.inner.outer*512) + (x.outer.outer*16)) + (x.outer.inner*4)) + 128), 1, 4)] = broadcast(0f32, 4)\n",
      "        C_2[ramp(((((y.inner.outer*512) + (x.outer.outer*16)) + (x.outer.inner*4)) + 128), 1, 4)] = ((float32x4*)C_2[ramp(((((y.inner.outer*512) + (x.outer.outer*16)) + (x.outer.inner*4)) + 128), 1, 4)] + (float32x4*)CC[ramp(8, 1, 4)])\n",
      "        C_2[ramp(((((y.inner.outer*512) + (x.outer.outer*16)) + (x.outer.inner*4)) + 192), 1, 4)] = broadcast(0f32, 4)\n",
      "        C_2[ramp(((((y.inner.outer*512) + (x.outer.outer*16)) + (x.outer.inner*4)) + 192), 1, 4)] = ((float32x4*)C_2[ramp(((((y.inner.outer*512) + (x.outer.outer*16)) + (x.outer.inner*4)) + 192), 1, 4)] + (float32x4*)CC[ramp(12, 1, 4)])\n",
      "        if @tir.likely((y.inner.outer < 84), dtype=bool) {\n",
      "          C_2[ramp(((((y.inner.outer*512) + (x.outer.outer*16)) + (x.outer.inner*4)) + 256), 1, 4)] = broadcast(0f32, 4)\n",
      "        }\n",
      "        if @tir.likely((y.inner.outer < 84), dtype=bool) {\n",
      "          C_2[ramp(((((y.inner.outer*512) + (x.outer.outer*16)) + (x.outer.inner*4)) + 256), 1, 4)] = ((float32x4*)C_2[ramp(((((y.inner.outer*512) + (x.outer.outer*16)) + (x.outer.inner*4)) + 256), 1, 4)] + (float32x4*)CC[ramp(16, 1, 4)])\n",
      "        }\n",
      "        if @tir.likely((y.inner.outer < 84), dtype=bool) {\n",
      "          C_2[ramp(((((y.inner.outer*512) + (x.outer.outer*16)) + (x.outer.inner*4)) + 320), 1, 4)] = broadcast(0f32, 4)\n",
      "        }\n",
      "        if @tir.likely((y.inner.outer < 84), dtype=bool) {\n",
      "          C_2[ramp(((((y.inner.outer*512) + (x.outer.outer*16)) + (x.outer.inner*4)) + 320), 1, 4)] = ((float32x4*)C_2[ramp(((((y.inner.outer*512) + (x.outer.outer*16)) + (x.outer.inner*4)) + 320), 1, 4)] + (float32x4*)CC[ramp(20, 1, 4)])\n",
      "        }\n",
      "        if @tir.likely((y.inner.outer < 84), dtype=bool) {\n",
      "          C_2[ramp(((((y.inner.outer*512) + (x.outer.outer*16)) + (x.outer.inner*4)) + 384), 1, 4)] = broadcast(0f32, 4)\n",
      "        }\n",
      "        if @tir.likely((y.inner.outer < 84), dtype=bool) {\n",
      "          C_2[ramp(((((y.inner.outer*512) + (x.outer.outer*16)) + (x.outer.inner*4)) + 384), 1, 4)] = ((float32x4*)C_2[ramp(((((y.inner.outer*512) + (x.outer.outer*16)) + (x.outer.inner*4)) + 384), 1, 4)] + (float32x4*)CC[ramp(24, 1, 4)])\n",
      "        }\n",
      "        if @tir.likely((y.inner.outer < 84), dtype=bool) {\n",
      "          C_2[ramp(((((y.inner.outer*512) + (x.outer.outer*16)) + (x.outer.inner*4)) + 448), 1, 4)] = broadcast(0f32, 4)\n",
      "        }\n",
      "        if @tir.likely((y.inner.outer < 84), dtype=bool) {\n",
      "          C_2[ramp(((((y.inner.outer*512) + (x.outer.outer*16)) + (x.outer.inner*4)) + 448), 1, 4)] = ((float32x4*)C_2[ramp(((((y.inner.outer*512) + (x.outer.outer*16)) + (x.outer.inner*4)) + 448), 1, 4)] + (float32x4*)CC[ramp(28, 1, 4)])\n",
      "        }\n",
      "      }\n",
      "    }\n",
      "  }\n",
      "}\n",
      "\n",
      "\n"
     ]
    }
   ],
   "source": [
    "print(tvm.lower(s, [Data, Wdat, Wind, Wptr, C], simple_mode=True))"
   ]
  },
  {
   "cell_type": "code",
   "execution_count": 5,
   "id": "e0c18a88",
   "metadata": {},
   "outputs": [],
   "source": [
    "func = tvm.build(s, [Data, Wdat, Wind, Wptr, C])"
   ]
  },
  {
   "cell_type": "code",
   "execution_count": 6,
   "id": "8d349b33",
   "metadata": {},
   "outputs": [],
   "source": [
    "output_placeholder = tvm.nd.array(np.zeros((Yout,CO)).astype('float32'))\n",
    "args = (tvm.nd.array(nhwc_data), \n",
    "        tvm.nd.array(spweight_ohwi.data), \n",
    "        tvm.nd.array(spweight_ohwi.indices), \n",
    "        tvm.nd.array(spweight_ohwi.indptr), \n",
    "        output_placeholder)"
   ]
  },
  {
   "cell_type": "code",
   "execution_count": 7,
   "id": "af882e66",
   "metadata": {},
   "outputs": [],
   "source": [
    "func(*args)"
   ]
  },
  {
   "cell_type": "code",
   "execution_count": 8,
   "id": "bdcf1faf",
   "metadata": {},
   "outputs": [],
   "source": [
    "#print(output_placeholder)"
   ]
  },
  {
   "cell_type": "code",
   "execution_count": 9,
   "id": "10bb7a4a",
   "metadata": {},
   "outputs": [
    {
     "name": "stdout",
     "output_type": "stream",
     "text": [
      "0.000423531\n"
     ]
    }
   ],
   "source": [
    "tgtstr = \"llvm -mcpu=skylake\"\n",
    "dev = tvm.device(tgtstr, 0)\n",
    "evt = func.time_evaluator(func.entry_name, dev, number=3)\n",
    "print(evt(*args).mean)"
   ]
  },
  {
   "cell_type": "markdown",
   "id": "4a86cebb",
   "metadata": {},
   "source": [
    "### padding = 0 sparse_conv"
   ]
  },
  {
   "cell_type": "code",
   "execution_count": 1,
   "id": "33d1d808",
   "metadata": {},
   "outputs": [],
   "source": [
    "from tvm import autotvm, te, tir\n",
    "import scipy.sparse\n",
    "import numpy as np\n",
    "import logging\n",
    "import sys\n",
    "import tvm\n",
    "\n",
    "\n",
    "def make_bsr_sparse(dense, sprate, blocksize):\n",
    "    bsrdata = scipy.sparse.bsr_matrix(dense, blocksize=blocksize)\n",
    "    # find partition value\n",
    "    summed = bsrdata.data.sum((1, 2))\n",
    "    idx = int(sprate * len(summed) + 0.5)\n",
    "    val = np.partition(summed, idx)[idx]\n",
    "    # filter the data\n",
    "    data, indices, indptr, bsrWid = [], [], [], bsrdata.indptr[1]\n",
    "    for idx, (block, indval) in enumerate(zip(bsrdata.data, bsrdata.indices)):\n",
    "        if idx % bsrWid == 0:\n",
    "            indptr.append(len(data))\n",
    "        if block.sum() >= val:\n",
    "            data.append(block)\n",
    "            indices.append(indval)\n",
    "    indptr.append(len(data))\n",
    "    # convert format\n",
    "    bsrdata2 = tuple([np.array(i) for i in [data, indices, indptr]])\n",
    "    return scipy.sparse.bsr_matrix(bsrdata2, shape=dense.shape)\n",
    "\n",
    "\n",
    "def unpack_bsr(bsrdata):\n",
    "    return bsrdata.data, bsrdata.indices, bsrdata.indptr\n",
    "\n",
    "\n",
    "def idxsplit(idx, dim, *dim2):\n",
    "    if dim2:\n",
    "        idx, *lower = idxsplit(idx, *dim2)\n",
    "    else:\n",
    "        lower = []\n",
    "    return (idx // dim, idx % dim, *lower)\n",
    "\n",
    "\n",
    "class te_compute_by_func:\n",
    "    def __init__(self, shape, **kwargs):\n",
    "        self.shape = shape\n",
    "        self.kwargs = kwargs\n",
    "       \n",
    "    def __call__(self, func):\n",
    "        return te.compute(self.shape, func, **self.kwargs)"
   ]
  },
  {
   "cell_type": "code",
   "execution_count": 2,
   "id": "c2b526b0",
   "metadata": {},
   "outputs": [],
   "source": [
    "@autotvm.template('spconv2d_3x3_gemm_p0')\n",
    "def spconv2d_3x3_gemm_p0(N, H, W, CI, CO, nElems, bsrR, bsrC, dtype='float32'):\n",
    "    Y, X, K = N*H*W, CO, 9*CI\n",
    "    Yout = N*(H-2)*(W-2)\n",
    "    cfg = autotvm.get_config()\n",
    "    cfg.define_split(\"tile_y\", Yout, num_outputs=3)\n",
    "    cfg.define_split(\"tile_x\", X // bsrR, num_outputs=2)\n",
    "    cfg.add_flop(Yout * (nElems * bsrC * bsrR * 2 - X))\n",
    "    #cfg.define_split(\"tile_k\", K, num_outputs=2)\n",
    "    if cfg.is_fallback:\n",
    "        print(\"cfg.is_fallback true\")\n",
    "        #cfg['tile_y'] = autotvm.task.space.SplitEntity([-1, 160, 8])\n",
    "        #cfg['tile_x'] = autotvm.task.space.SplitEntity([-1, 4])\n",
    "    \n",
    "    Data = te.placeholder((N, H, W, CI), dtype=dtype, name='Data')\n",
    "    Wdat = te.placeholder((nElems, bsrR, bsrC), name='Wdat')\n",
    "    Wind = te.placeholder((nElems,), dtype='int', name='Wind')\n",
    "    Wptr = te.placeholder((X // bsrR + 1,), dtype='int', name='Wptr')\n",
    "\n",
    "    @te_compute_by_func((Yout, K), name='Im2Col')\n",
    "    def Im2Col(row, col):\n",
    "        jn, jh, jw = idxsplit(row, H, W)\n",
    "        kh, kw, jc = idxsplit(col, 3, CI)\n",
    "        ih, iw = jh + kh - 1, jw + kw - 1\n",
    "        return tir.if_then_else(\n",
    "            tir.all(0 <= ih, ih < H, 0 <= iw, iw < W),\n",
    "            Data[jn, ih, iw, jc], 0)\n",
    "    \n",
    "    @te_compute_by_func((Yout, X // bsrR, bsrR, bsrC), name='CC')\n",
    "    def CC(drow, wrow, brow, bcol):\n",
    "        row_start, row_end = Wptr[wrow], Wptr[wrow+1]\n",
    "        elem_idx = te.reduce_axis((0, row_end - row_start), name='elem_idx')\n",
    "        elem = row_start + elem_idx\n",
    "        return te.sum(Im2Col[drow, Wind[elem]*bsrC + bcol] * Wdat[elem, brow, bcol], axis=elem_idx)\n",
    "\n",
    "    k = te.reduce_axis((0, bsrC), name='k')\n",
    "    C = te.compute((Yout, X), lambda y, x: te.sum(CC[y, x // bsrR, x % bsrR, k], axis=k), name='C')\n",
    "    \n",
    "    s = te.create_schedule(C.op)\n",
    "    y, x = s[C].op.axis\n",
    "    yt, yo, yi = cfg['tile_y'].apply(s, C, y)\n",
    "    xo, xi = s[C].split(x, factor=bsrR)\n",
    "    xt, xo = cfg['tile_x'].apply(s, C, xo)\n",
    "    (k,) = s[C].op.reduce_axis\n",
    "    s[C].reorder(yt, xt, yo, xo, yi, xi, k)\n",
    "    s[C].unroll(k)\n",
    "    s[C].vectorize(xi)\n",
    "    s[C].unroll(yi)\n",
    "\n",
    "    s[CC].compute_at(s[C], xo)\n",
    "    yi, xi, r, c = s[CC].op.axis\n",
    "    (k,) = s[CC].op.reduce_axis\n",
    "    s[CC].reorder(xi, k, yi, r, c)\n",
    "    s[CC].unroll(c)\n",
    "    s[CC].vectorize(r)\n",
    "    s[CC].unroll(yi)\n",
    "    \n",
    "    s[Im2Col].compute_at(s[C], yo)\n",
    "    yi, k = s[Im2Col].op.axis\n",
    "    ko, ki = s[Im2Col].split(k, factor=CI)\n",
    "    s[Im2Col].vectorize(ki)\n",
    "    #s[Im2Col].unroll(yi)\n",
    "    return s, [Data, Wdat, Wind, Wptr, C]"
   ]
  },
  {
   "cell_type": "code",
   "execution_count": 5,
   "id": "d8142817",
   "metadata": {},
   "outputs": [
    {
     "name": "stdout",
     "output_type": "stream",
     "text": [
      "ConfigSpace (len=108, space_map=\n",
      "   0 tile_y: Split(policy=factors, product=676, num_outputs=3) len=36\n",
      "   1 tile_x: Split(policy=factors, product=4, num_outputs=2) len=3\n",
      ")\n",
      "Get devices for measurement successfully!\n",
      "Get devices for measurement successfully!\n",
      "Get devices for measurement successfully!\n"
     ]
    },
    {
     "name": "stderr",
     "output_type": "stream",
     "text": [
      "INFO:autotvm:Get devices for measurement successfully!\n"
     ]
    },
    {
     "name": "stdout",
     "output_type": "stream",
     "text": [
      "No: 1\tGFLOPS: 27.69/27.69\tresult: MeasureResult(costs=(0.00071863725,), error_no=MeasureErrorNo.NO_ERROR, all_cost=0.2402651309967041, timestamp=1646742829.7440257)\t[('tile_y', [-1, 2, 13]), ('tile_x', [-1, 1])],None,19\n",
      "No: 1\tGFLOPS: 27.69/27.69\tresult: MeasureResult(costs=(0.00071863725,), error_no=MeasureErrorNo.NO_ERROR, all_cost=0.2402651309967041, timestamp=1646742829.7440257)\t[('tile_y', [-1, 2, 13]), ('tile_x', [-1, 1])],None,19\n",
      "No: 1\tGFLOPS: 27.69/27.69\tresult: MeasureResult(costs=(0.00071863725,), error_no=MeasureErrorNo.NO_ERROR, all_cost=0.2402651309967041, timestamp=1646742829.7440257)\t[('tile_y', [-1, 2, 13]), ('tile_x', [-1, 1])],None,19\n"
     ]
    },
    {
     "name": "stderr",
     "output_type": "stream",
     "text": [
      "DEBUG:autotvm:No: 1\tGFLOPS: 27.69/27.69\tresult: MeasureResult(costs=(0.00071863725,), error_no=MeasureErrorNo.NO_ERROR, all_cost=0.2402651309967041, timestamp=1646742829.7440257)\t[('tile_y', [-1, 2, 13]), ('tile_x', [-1, 1])],None,19\n"
     ]
    },
    {
     "name": "stdout",
     "output_type": "stream",
     "text": [
      "No: 2\tGFLOPS: 19.88/27.69\tresult: MeasureResult(costs=(0.00100126125,), error_no=MeasureErrorNo.NO_ERROR, all_cost=0.2080533504486084, timestamp=1646742829.9900966)\t[('tile_y', [-1, 1, 1]), ('tile_x', [-1, 1])],None,0\n",
      "No: 2\tGFLOPS: 19.88/27.69\tresult: MeasureResult(costs=(0.00100126125,), error_no=MeasureErrorNo.NO_ERROR, all_cost=0.2080533504486084, timestamp=1646742829.9900966)\t[('tile_y', [-1, 1, 1]), ('tile_x', [-1, 1])],None,0\n",
      "No: 2\tGFLOPS: 19.88/27.69\tresult: MeasureResult(costs=(0.00100126125,), error_no=MeasureErrorNo.NO_ERROR, all_cost=0.2080533504486084, timestamp=1646742829.9900966)\t[('tile_y', [-1, 1, 1]), ('tile_x', [-1, 1])],None,0\n"
     ]
    },
    {
     "name": "stderr",
     "output_type": "stream",
     "text": [
      "DEBUG:autotvm:No: 2\tGFLOPS: 19.88/27.69\tresult: MeasureResult(costs=(0.00100126125,), error_no=MeasureErrorNo.NO_ERROR, all_cost=0.2080533504486084, timestamp=1646742829.9900966)\t[('tile_y', [-1, 1, 1]), ('tile_x', [-1, 1])],None,0\n"
     ]
    },
    {
     "name": "stdout",
     "output_type": "stream",
     "text": [
      "No: 3\tGFLOPS: 21.06/27.69\tresult: MeasureResult(costs=(0.0009448015,), error_no=MeasureErrorNo.NO_ERROR, all_cost=0.24727678298950195, timestamp=1646742830.5754106)\t[('tile_y', [-1, 676, 1]), ('tile_x', [-1, 2])],None,44\n",
      "No: 3\tGFLOPS: 21.06/27.69\tresult: MeasureResult(costs=(0.0009448015,), error_no=MeasureErrorNo.NO_ERROR, all_cost=0.24727678298950195, timestamp=1646742830.5754106)\t[('tile_y', [-1, 676, 1]), ('tile_x', [-1, 2])],None,44\n",
      "No: 3\tGFLOPS: 21.06/27.69\tresult: MeasureResult(costs=(0.0009448015,), error_no=MeasureErrorNo.NO_ERROR, all_cost=0.24727678298950195, timestamp=1646742830.5754106)\t[('tile_y', [-1, 676, 1]), ('tile_x', [-1, 2])],None,44\n"
     ]
    },
    {
     "name": "stderr",
     "output_type": "stream",
     "text": [
      "DEBUG:autotvm:No: 3\tGFLOPS: 21.06/27.69\tresult: MeasureResult(costs=(0.0009448015,), error_no=MeasureErrorNo.NO_ERROR, all_cost=0.24727678298950195, timestamp=1646742830.5754106)\t[('tile_y', [-1, 676, 1]), ('tile_x', [-1, 2])],None,44\n"
     ]
    },
    {
     "name": "stdout",
     "output_type": "stream",
     "text": [
      "tunning done\n"
     ]
    }
   ],
   "source": [
    "N,H,W,C = 1, 28, 28, 64\n",
    "CO = CI = C\n",
    "nhwc_data = np.random.randint(0, C, (N, H, W, C)).astype('float32')\n",
    "weight_ohwi = np.random.rand(CO, 3*3*CI).astype('float32')\n",
    "spweight_ohwi = make_bsr_sparse(weight_ohwi, 0.6, (16, 1))\n",
    "#need to change ret shape accordingly, otherwise tunning will fail\n",
    "ret = np.zeros((N*(H-2)*(W-2), CO), dtype='float32')   \n",
    "args = (N, H, W, CI, CO, *spweight_ohwi.data.shape, 'float32')\n",
    "task = autotvm.task.create('spconv2d_3x3_gemm_p0', args=args, target=\"llvm -mcpu=skylake\")\n",
    "print(task.config_space)\n",
    "\n",
    "logging.getLogger(\"autotvm\").setLevel(logging.DEBUG)\n",
    "logging.getLogger(\"autotvm\").addHandler(logging.StreamHandler(sys.stdout))\n",
    "\n",
    "runner = autotvm.LocalRunner(number=4, repeat=3, timeout=20)\n",
    "runner.ref_input = [nhwc_data, *unpack_bsr(spweight_ohwi), ret]\n",
    "measure_option = autotvm.measure_option(builder=autotvm.LocalBuilder(), runner=runner)\n",
    "tuner = autotvm.tuner.GATuner(task)\n",
    "tuner.tune(\n",
    "    n_trial=3,\n",
    "    measure_option=measure_option,\n",
    "    callbacks=[autotvm.callback.log_to_file(\"spconv2d_3x3_gemm_p0.log\")],\n",
    ")\n",
    "\n",
    "print(\"tunning done\")"
   ]
  },
  {
   "cell_type": "code",
   "execution_count": null,
   "id": "db727b29",
   "metadata": {},
   "outputs": [],
   "source": []
  }
 ],
 "metadata": {
  "kernelspec": {
   "display_name": "Python 3 (ipykernel)",
   "language": "python",
   "name": "python3"
  },
  "language_info": {
   "codemirror_mode": {
    "name": "ipython",
    "version": 3
   },
   "file_extension": ".py",
   "mimetype": "text/x-python",
   "name": "python",
   "nbconvert_exporter": "python",
   "pygments_lexer": "ipython3",
   "version": "3.7.11"
  }
 },
 "nbformat": 4,
 "nbformat_minor": 5
}
