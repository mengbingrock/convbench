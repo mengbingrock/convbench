{
 "cells": [
  {
   "cell_type": "code",
   "execution_count": 1,
   "id": "6aec8cbd",
   "metadata": {},
   "outputs": [],
   "source": [
    "import tvm\n",
    "import numpy as np\n",
    "from tvm import autotvm, te, tir\n",
    "from functools import partial, reduce\n",
    "N, H, W, CI = 1, 28, 28, 64\n",
    "CO = 64\n",
    "Y, X, K = N*H*W, CO, 9*CI\n",
    "#sprate = 0.9"
   ]
  },
  {
   "cell_type": "code",
   "execution_count": 2,
   "id": "41fc85fe",
   "metadata": {},
   "outputs": [],
   "source": [
    "from IPython.core.magic import register_cell_magic\n",
    "import subprocess\n",
    "import argparse\n",
    "import sys\n",
    "import os\n",
    "@register_cell_magic\n",
    "def withsave(line, cell):\n",
    "    parser = argparse.ArgumentParser()\n",
    "    parser.add_argument('fname')\n",
    "    parser.add_argument('-f', '--force', action='store_true')\n",
    "    parser.add_argument('-a', '--append', action='store_true')\n",
    "    parser.add_argument('--subp')\n",
    "    parser.add_argument('--no-capout', action='store_false', dest='capout')\n",
    "    args = parser.parse_args(line.split())\n",
    "    if not args.fname.endswith('.py'):\n",
    "        args.fname += '.py'\n",
    "    assert not (args.force and args.append)\n",
    "    if os.path.exists(args.fname) and not (args.force or args.append):\n",
    "        raise FileExistsError(args.fname)\n",
    "    with open(args.fname, 'a' if args.append else 'w') as f:\n",
    "        f.write(cell)\n",
    "    if not args.subp:\n",
    "        get_ipython().run_cell(cell)\n",
    "    else:\n",
    "        get_ipython().user_ns[args.subp] = subprocess.run(\n",
    "            [sys.executable, args.fname],\n",
    "            capture_output=args.capout\n",
    "        )"
   ]
  },
  {
   "cell_type": "code",
   "execution_count": null,
   "id": "78f4142f",
   "metadata": {},
   "outputs": [],
   "source": []
  },
  {
   "cell_type": "code",
   "execution_count": 15,
   "id": "d6fa9475",
   "metadata": {},
   "outputs": [
    {
     "name": "stdout",
     "output_type": "stream",
     "text": [
      "cfg[tile_y] [-1, 1, 1]\n",
      "cfg[tile_x] [-1, 1, 1]\n",
      "cfg[tile_k] [-1, 1]\n"
     ]
    },
    {
     "data": {
      "text/plain": [
       "'\\nCC = s.cache_write(C, \"global\")\\ny, x = s[C].op.axis\\nyt, yo, yi = cfg[\"tile_y\"].apply(s, C, y)\\nxt, xo, xi = cfg[\"tile_x\"].apply(s, C, x)\\ns[C].reorder(yt, xt, yo, xo, yi, xi)\\n#xyt = s[C].fuse(yt, xt)\\n#s[C].parallel(xyt)\\n#xyo = s[C].fuse(yo, xo)\\ns[C].unroll(yi)\\ns[C].vectorize(xi)\\n\\ns[CC].compute_at(s[C], xo)\\nyi, xi = s[CC].op.axis\\n(k,) = s[CC].op.reduce_axis\\nko, ki = cfg[\"tile_k\"].apply(s, CC, k)\\ns[CC].reorder(ko, ki, yi, xi)\\ns[CC].vectorize(xi)\\ns[CC].unroll(yi)\\ns[CC].unroll(ki)\\n\\ns[im2col].compute_at(s[C], yo)\\nyi, k = s[im2col].op.axis\\nko, ki = s[im2col].split(k, factor=CI)\\ns[im2col].vectorize(ki)\\n#s[im2col].unroll(yi)\\n\\nxo, k, xi = s[packw].op.axis\\ns[packw].reorder(xo, xi, k)\\n#s[packw].parallel(xo)'"
      ]
     },
     "execution_count": 15,
     "metadata": {},
     "output_type": "execute_result"
    }
   ],
   "source": [
    "\n",
    "dtype = 'float32'\n",
    "\n",
    "cfg = autotvm.get_config()\n",
    "cfg.define_split(\"tile_y\", Y, num_outputs=3)\n",
    "cfg.define_split(\"tile_x\", X, num_outputs=3)\n",
    "cfg.define_split(\"tile_k\", K, num_outputs=2)\n",
    "if cfg.is_fallback:\n",
    "    pass\n",
    "\n",
    "print(\"cfg[tile_y]\", cfg[\"tile_y\"])\n",
    "print(\"cfg[tile_x]\", cfg[\"tile_x\"])\n",
    "print(\"cfg[tile_k]\", cfg[\"tile_k\"])\n",
    "\n",
    "data = te.placeholder((N, H, W, CI), dtype=dtype)\n",
    "weight = te.placeholder((X, K), dtype=dtype)\n",
    "idxsplit = lambda x,y: reduce(lambda a,b: a[:-1]+[a[-1]%b,a[-1]//b], y, [x])\n",
    "\n",
    "@partial(te.compute, (Y, K), name='im2col')\n",
    "def im2col(row, col):\n",
    "    jw, jh, jn = idxsplit(row, [W, H])\n",
    "    jc, kw, kh = idxsplit(col, [CI, 3])\n",
    "    ih, iw = jh + kh - 1, jw + kw - 1\n",
    "    return tir.if_then_else(\n",
    "        tir.all(0 <= ih, ih < H, 0 <= iw, iw < W),\n",
    "        data[jn, ih, iw, jc], 0)\n",
    "\n",
    "#packw_bn = cfg[\"tile_x\"].size[-1]\n",
    "packw_bn = 3\n",
    "packw = te.compute((X//packw_bn, K, packw_bn),\n",
    "    lambda xo, k, xi: weight[xo * packw_bn + xi, k],\n",
    "    name=\"packed_weight\")\n",
    "\n",
    "k = te.reduce_axis((0, K), name=\"k\")\n",
    "C = te.compute((Y, X),\n",
    "    lambda y, x: te.sum(im2col[y, k] * packw[x//packw_bn, k, x%packw_bn], axis=k),\n",
    "    name=\"dense_pack\")\n",
    "\n",
    "s = te.create_schedule(C.op)\n",
    "\"\"\"\n",
    "CC = s.cache_write(C, \"global\")\n",
    "y, x = s[C].op.axis\n",
    "yt, yo, yi = cfg[\"tile_y\"].apply(s, C, y)\n",
    "xt, xo, xi = cfg[\"tile_x\"].apply(s, C, x)\n",
    "s[C].reorder(yt, xt, yo, xo, yi, xi)\n",
    "#xyt = s[C].fuse(yt, xt)\n",
    "#s[C].parallel(xyt)\n",
    "#xyo = s[C].fuse(yo, xo)\n",
    "s[C].unroll(yi)\n",
    "s[C].vectorize(xi)\n",
    "\n",
    "s[CC].compute_at(s[C], xo)\n",
    "yi, xi = s[CC].op.axis\n",
    "(k,) = s[CC].op.reduce_axis\n",
    "ko, ki = cfg[\"tile_k\"].apply(s, CC, k)\n",
    "s[CC].reorder(ko, ki, yi, xi)\n",
    "s[CC].vectorize(xi)\n",
    "s[CC].unroll(yi)\n",
    "s[CC].unroll(ki)\n",
    "\n",
    "s[im2col].compute_at(s[C], yo)\n",
    "yi, k = s[im2col].op.axis\n",
    "ko, ki = s[im2col].split(k, factor=CI)\n",
    "s[im2col].vectorize(ki)\n",
    "#s[im2col].unroll(yi)\n",
    "\n",
    "xo, k, xi = s[packw].op.axis\n",
    "s[packw].reorder(xo, xi, k)\n",
    "#s[packw].parallel(xo)\"\"\"\n"
   ]
  },
  {
   "cell_type": "code",
   "execution_count": null,
   "id": "1298edc2",
   "metadata": {},
   "outputs": [],
   "source": []
  },
  {
   "cell_type": "code",
   "execution_count": 16,
   "id": "583b0eba",
   "metadata": {},
   "outputs": [],
   "source": [
    "\n",
    "#data = tvm.nd.array(np.random.rand(N, H, W, CI).astype('float32'))\n",
    "#weight = tvm.nd.array(np.random.rand(X, K).astype('float32'))\n",
    "\n",
    "#data_placeholder = te.placeholder(data.shape)\n",
    "#weight_placeholder = te.placeholder(weight.shape)\n",
    "#output_placeholder = te.placeholder((CO,Y))\n"
   ]
  },
  {
   "cell_type": "code",
   "execution_count": 17,
   "id": "ed5b434b",
   "metadata": {},
   "outputs": [
    {
     "name": "stdout",
     "output_type": "stream",
     "text": [
      "@main = primfn(placeholder_2: handle, placeholder_3: handle, dense_pack_1: handle) -> ()\n",
      "  attr = {\"from_legacy_te_schedule\": True, \"global_symbol\": \"main\", \"tir.noalias\": True}\n",
      "  buffers = {dense_pack: Buffer(dense_pack_2: Pointer(float32), float32, [784, 64], []),\n",
      "             placeholder_1: Buffer(placeholder_4: Pointer(float32), float32, [64, 576], []),\n",
      "             placeholder: Buffer(placeholder_5: Pointer(float32), float32, [1, 28, 28, 64], [])}\n",
      "  buffer_map = {placeholder_2: placeholder, placeholder_3: placeholder_1, dense_pack_1: dense_pack} {\n",
      "  allocate(im2col: Pointer(global float32), float32, [451584]), storage_scope = global;\n",
      "  allocate(packed_weight: Pointer(global float32), float32, [36288]), storage_scope = global {\n",
      "    for (row: int32, 0, 784) {\n",
      "      for (col: int32, 0, 576) {\n",
      "        im2col[((row*576) + col)] = @tir.if_then_else(((((1 <= (floordiv(col, 192) + floordiv(row, 28))) && ((floordiv(col, 192) + floordiv(row, 28)) < 29)) && (1 <= (floordiv(floormod(col, 192), 64) + floormod(row, 28)))) && ((floordiv(floormod(col, 192), 64) + floormod(row, 28)) < 29)), (float32*)placeholder_5[((((floordiv(col, 192)*1792) + (row*64)) + floormod(col, 192)) - 1856)], 0f32, dtype=float32)\n",
      "      }\n",
      "    }\n",
      "    for (xo: int32, 0, 21) {\n",
      "      for (k: int32, 0, 576) {\n",
      "        for (xi: int32, 0, 3) {\n",
      "          packed_weight[(((xo*1728) + (k*3)) + xi)] = (float32*)placeholder_4[(((xo*1728) + (xi*576)) + k)]\n",
      "        }\n",
      "      }\n",
      "    }\n",
      "    for (y: int32, 0, 784) {\n",
      "      for (x: int32, 0, 64) {\n",
      "        dense_pack_2[((y*64) + x)] = 0f32\n",
      "        for (k_1: int32, 0, 576) {\n",
      "          dense_pack_2[((y*64) + x)] = ((float32*)dense_pack_2[((y*64) + x)] + ((float32*)im2col[((y*576) + k_1)]*(float32*)packed_weight[(((floordiv(x, 3)*1728) + (k_1*3)) + floormod(x, 3))]))\n",
      "        }\n",
      "      }\n",
      "    }\n",
      "  }\n",
      "}\n",
      "\n",
      "\n"
     ]
    }
   ],
   "source": [
    "\n",
    "print(tvm.lower(s, [data, weight, C], simple_mode=True))"
   ]
  },
  {
   "cell_type": "code",
   "execution_count": 18,
   "id": "00e8d912",
   "metadata": {},
   "outputs": [],
   "source": [
    "func = tvm.build(s, [data, weight, C])"
   ]
  },
  {
   "cell_type": "code",
   "execution_count": 19,
   "id": "3062b6fe",
   "metadata": {},
   "outputs": [],
   "source": [
    "data = tvm.nd.array(np.random.rand(N, H, W, CI).astype('float32'))\n",
    "weight = tvm.nd.array(np.random.rand(X, K).astype('float32'))\n",
    "output_placeholder = tvm.nd.array(np.zeros((Y,CO)).astype('float32'))  #te.placeholder((CO,Y))\n"
   ]
  },
  {
   "cell_type": "code",
   "execution_count": 20,
   "id": "45487178",
   "metadata": {},
   "outputs": [],
   "source": [
    "#print(output_placeholder)\n",
    "args = (data, weight, output_placeholder)"
   ]
  },
  {
   "cell_type": "code",
   "execution_count": 21,
   "id": "cd00a5c7",
   "metadata": {},
   "outputs": [],
   "source": [
    "func(*args)"
   ]
  },
  {
   "cell_type": "code",
   "execution_count": 22,
   "id": "e63d42e1",
   "metadata": {},
   "outputs": [
    {
     "name": "stdout",
     "output_type": "stream",
     "text": [
      "[[   66.64377     64.6672      63.355003 ...    63.823936    66.084526\n",
      "   6850.0044  ]\n",
      " [   96.17441     93.44349     95.512024 ...    91.52598    100.0269\n",
      "  10621.691   ]\n",
      " [  103.258026    94.276474    98.07382  ...    98.906296   101.88141\n",
      "  11890.803   ]\n",
      " ...\n",
      " [   90.22754     86.93985     93.22631  ...    88.73153     94.04543\n",
      "   6047.695   ]\n",
      " [   92.263985    84.32659     94.734375 ...    88.18103     91.66894\n",
      "   4771.3765  ]\n",
      " [   56.017586    56.140312    61.848854 ...    56.439342    57.972046\n",
      "   2970.314   ]]\n",
      "(784, 64)\n"
     ]
    }
   ],
   "source": [
    "print(output_placeholder)\n",
    "print(output_placeholder.shape)"
   ]
  },
  {
   "cell_type": "code",
   "execution_count": 24,
   "id": "0cdd0dc3",
   "metadata": {},
   "outputs": [
    {
     "name": "stdout",
     "output_type": "stream",
     "text": [
      "0.040976574599999996\n"
     ]
    }
   ],
   "source": [
    "tgtstr = \"llvm -mcpu=skylake\"\n",
    "dev = tvm.device(tgtstr, 0)\n",
    "evt = func.time_evaluator(func.entry_name, dev, number=10)\n",
    "print(evt(*args).mean)"
   ]
  },
  {
   "cell_type": "code",
   "execution_count": 25,
   "id": "b75c134a",
   "metadata": {},
   "outputs": [
    {
     "ename": "ValueError",
     "evalue": "Customized func is already registered in autoTVM task conv2d_3x3_gemm",
     "output_type": "error",
     "traceback": [
      "\u001b[0;31m---------------------------------------------------------------------------\u001b[0m",
      "\u001b[0;31mValueError\u001b[0m                                Traceback (most recent call last)",
      "\u001b[0;32m/tmp/ipykernel_31099/399415004.py\u001b[0m in \u001b[0;36m<module>\u001b[0;34m\u001b[0m\n\u001b[1;32m      1\u001b[0m \u001b[0;34m@\u001b[0m\u001b[0mautotvm\u001b[0m\u001b[0;34m.\u001b[0m\u001b[0mtemplate\u001b[0m\u001b[0;34m(\u001b[0m\u001b[0;34m'conv2d_3x3_gemm'\u001b[0m\u001b[0;34m)\u001b[0m\u001b[0;34m\u001b[0m\u001b[0;34m\u001b[0m\u001b[0m\n\u001b[0;32m----> 2\u001b[0;31m \u001b[0;32mdef\u001b[0m \u001b[0mconv2d_3x3_gemm\u001b[0m\u001b[0;34m(\u001b[0m\u001b[0mN\u001b[0m\u001b[0;34m,\u001b[0m \u001b[0mH\u001b[0m\u001b[0;34m,\u001b[0m \u001b[0mW\u001b[0m\u001b[0;34m,\u001b[0m \u001b[0mCI\u001b[0m\u001b[0;34m,\u001b[0m \u001b[0mCO\u001b[0m\u001b[0;34m,\u001b[0m \u001b[0mdtype\u001b[0m\u001b[0;34m=\u001b[0m\u001b[0;34m'float32'\u001b[0m\u001b[0;34m)\u001b[0m\u001b[0;34m:\u001b[0m\u001b[0;34m\u001b[0m\u001b[0;34m\u001b[0m\u001b[0m\n\u001b[0m\u001b[1;32m      3\u001b[0m     '''# My Conv2d_3x3_gemm\n\u001b[1;32m      4\u001b[0m \u001b[0;34m\u001b[0m\u001b[0m\n\u001b[1;32m      5\u001b[0m         \u001b[0myt\u001b[0m\u001b[0;34m,\u001b[0m \u001b[0mxt\u001b[0m\u001b[0;34m,\u001b[0m \u001b[0myo\u001b[0m \u001b[0;34m=\u001b[0m\u001b[0;34m>\u001b[0m\u001b[0;34m\u001b[0m\u001b[0;34m\u001b[0m\u001b[0m\n",
      "\u001b[0;32m~/.local/lib/python3.7/site-packages/tvm-0.9.dev195+gbad5861b2-py3.7-linux-x86_64.egg/tvm/autotvm/task/task.py\u001b[0m in \u001b[0;36m_decorate\u001b[0;34m(f)\u001b[0m\n\u001b[1;32m    442\u001b[0m                 \u001b[0;32mreturn\u001b[0m \u001b[0mf\u001b[0m\u001b[0;34m(\u001b[0m\u001b[0;34m*\u001b[0m\u001b[0margs\u001b[0m\u001b[0;34m,\u001b[0m \u001b[0;34m**\u001b[0m\u001b[0mkwargs\u001b[0m\u001b[0;34m)\u001b[0m\u001b[0;34m\u001b[0m\u001b[0;34m\u001b[0m\u001b[0m\n\u001b[1;32m    443\u001b[0m \u001b[0;34m\u001b[0m\u001b[0m\n\u001b[0;32m--> 444\u001b[0;31m         \u001b[0m_register_customized_task\u001b[0m\u001b[0;34m(\u001b[0m\u001b[0mtask_name\u001b[0m\u001b[0;34m,\u001b[0m \u001b[0mf\u001b[0m\u001b[0;34m)\u001b[0m\u001b[0;34m\u001b[0m\u001b[0;34m\u001b[0m\u001b[0m\n\u001b[0m\u001b[1;32m    445\u001b[0m         \u001b[0;32mreturn\u001b[0m \u001b[0mwrapper\u001b[0m\u001b[0;34m\u001b[0m\u001b[0;34m\u001b[0m\u001b[0m\n\u001b[1;32m    446\u001b[0m \u001b[0;34m\u001b[0m\u001b[0m\n",
      "\u001b[0;32m~/.local/lib/python3.7/site-packages/tvm-0.9.dev195+gbad5861b2-py3.7-linux-x86_64.egg/tvm/autotvm/task/task.py\u001b[0m in \u001b[0;36m_register_customized_task\u001b[0;34m(name, func)\u001b[0m\n\u001b[1;32m    376\u001b[0m \u001b[0;34m\u001b[0m\u001b[0m\n\u001b[1;32m    377\u001b[0m     \u001b[0;32mif\u001b[0m \u001b[0mfunc\u001b[0m\u001b[0;34m:\u001b[0m\u001b[0;34m\u001b[0m\u001b[0;34m\u001b[0m\u001b[0m\n\u001b[0;32m--> 378\u001b[0;31m         \u001b[0;32mreturn\u001b[0m \u001b[0m_do_reg\u001b[0m\u001b[0;34m(\u001b[0m\u001b[0mfunc\u001b[0m\u001b[0;34m)\u001b[0m\u001b[0;34m\u001b[0m\u001b[0;34m\u001b[0m\u001b[0m\n\u001b[0m\u001b[1;32m    379\u001b[0m     \u001b[0;32mreturn\u001b[0m \u001b[0m_do_reg\u001b[0m\u001b[0;34m\u001b[0m\u001b[0;34m\u001b[0m\u001b[0m\n\u001b[1;32m    380\u001b[0m \u001b[0;34m\u001b[0m\u001b[0m\n",
      "\u001b[0;32m~/.local/lib/python3.7/site-packages/tvm-0.9.dev195+gbad5861b2-py3.7-linux-x86_64.egg/tvm/autotvm/task/task.py\u001b[0m in \u001b[0;36m_do_reg\u001b[0;34m(f)\u001b[0m\n\u001b[1;32m    371\u001b[0m         \u001b[0mtmpl\u001b[0m \u001b[0;34m=\u001b[0m \u001b[0mTASK_TABLE\u001b[0m\u001b[0;34m[\u001b[0m\u001b[0mname\u001b[0m\u001b[0;34m]\u001b[0m\u001b[0;34m\u001b[0m\u001b[0;34m\u001b[0m\u001b[0m\n\u001b[1;32m    372\u001b[0m         \u001b[0;32mif\u001b[0m \u001b[0mtmpl\u001b[0m\u001b[0;34m.\u001b[0m\u001b[0mfcustomized\u001b[0m \u001b[0;32mis\u001b[0m \u001b[0;32mnot\u001b[0m \u001b[0;32mNone\u001b[0m\u001b[0;34m:\u001b[0m\u001b[0;34m\u001b[0m\u001b[0;34m\u001b[0m\u001b[0m\n\u001b[0;32m--> 373\u001b[0;31m             \u001b[0;32mraise\u001b[0m \u001b[0mValueError\u001b[0m\u001b[0;34m(\u001b[0m\u001b[0;34m\"Customized func is already registered in autoTVM task %s\"\u001b[0m \u001b[0;34m%\u001b[0m \u001b[0mname\u001b[0m\u001b[0;34m)\u001b[0m\u001b[0;34m\u001b[0m\u001b[0;34m\u001b[0m\u001b[0m\n\u001b[0m\u001b[1;32m    374\u001b[0m         \u001b[0mtmpl\u001b[0m\u001b[0;34m.\u001b[0m\u001b[0mfcustomized\u001b[0m \u001b[0;34m=\u001b[0m \u001b[0mf\u001b[0m\u001b[0;34m\u001b[0m\u001b[0;34m\u001b[0m\u001b[0m\n\u001b[1;32m    375\u001b[0m         \u001b[0;32mreturn\u001b[0m \u001b[0mf\u001b[0m\u001b[0;34m\u001b[0m\u001b[0;34m\u001b[0m\u001b[0m\n",
      "\u001b[0;31mValueError\u001b[0m: Customized func is already registered in autoTVM task conv2d_3x3_gemm"
     ]
    }
   ],
   "source": [
    "@autotvm.template('conv2d_3x3_gemm')\n",
    "def conv2d_3x3_gemm(N, H, W, CI, CO, dtype='float32'):\n",
    "    '''# My Conv2d_3x3_gemm\n",
    "                \n",
    "        yt, xt, yo =>\n",
    "            yi, k9, ci:vec =>\n",
    "                @im2col = {yt, yo, yi}/y, {k9, ci}/k\n",
    "            xo =>\n",
    "                ko, ki:unroll, yi:unroll, xi:vec =>\n",
    "                    @ccache = {yt, yo, yi}/y, {xt, xo, xi}/x  // {ko, ki}k\n",
    "                yi:unroll, xi:vec =>\n",
    "                    @cout = {yt, yo, yi}/y, {xt, xo, xi}/x\n",
    "    '''\n",
    "    Y, X, K = N*H*W, CO, 9*CI\n",
    "    cfg = autotvm.get_config()\n",
    "    cfg.define_split(\"tile_y\", Y, num_outputs=3)\n",
    "    cfg.define_split(\"tile_x\", X, num_outputs=3)\n",
    "    cfg.define_split(\"tile_k\", K, num_outputs=2)\n",
    "    if cfg.is_fallback:\n",
    "        pass\n",
    "\n",
    "    data = te.placeholder((N, H, W, CI), dtype=dtype)\n",
    "    weight = te.placeholder((X, K), dtype=dtype)\n",
    "    idxsplit = lambda x,y: reduce(lambda a,b: a[:-1]+[a[-1]%b,a[-1]//b], y, [x])\n",
    "\n",
    "    @partial(te.compute, (Y, K), name='im2col')\n",
    "    def im2col(row, col):\n",
    "        jw, jh, jn = idxsplit(row, [W, H])\n",
    "        jc, kw, kh = idxsplit(col, [CI, 3])\n",
    "        ih, iw = jh + kh - 1, jw + kw - 1\n",
    "        return tir.if_then_else(\n",
    "            tir.all(0 <= ih, ih < H, 0 <= iw, iw < W),\n",
    "            data[jn, ih, iw, jc], 0)\n",
    "    \n",
    "    packw_bn = cfg[\"tile_x\"].size[-1]\n",
    "    packw = te.compute((X//packw_bn, K, packw_bn),\n",
    "        lambda xo, k, xi: weight[xo * packw_bn + xi, k],\n",
    "        name=\"packed_weight\")\n",
    "    \n",
    "    k = te.reduce_axis((0, K), name=\"k\")\n",
    "    C = te.compute((Y, X),\n",
    "        lambda y, x: te.sum(im2col[y, k] * packw[x//packw_bn, k, x%packw_bn], axis=k),\n",
    "        name=\"dense_pack\")\n",
    "    \n",
    "    s = te.create_schedule(C.op)\n",
    "    CC = s.cache_write(C, \"global\")\n",
    "    \n",
    "    y, x = s[C].op.axis\n",
    "    yt, yo, yi = cfg[\"tile_y\"].apply(s, C, y)\n",
    "    xt, xo, xi = cfg[\"tile_x\"].apply(s, C, x)\n",
    "    s[C].reorder(yt, xt, yo, xo, yi, xi)\n",
    "    #xyt = s[C].fuse(yt, xt)\n",
    "    #s[C].parallel(xyt)\n",
    "    #xyo = s[C].fuse(yo, xo)\n",
    "    s[C].unroll(yi)\n",
    "    s[C].vectorize(xi)\n",
    "\n",
    "    s[CC].compute_at(s[C], xo)\n",
    "    yi, xi = s[CC].op.axis\n",
    "    (k,) = s[CC].op.reduce_axis\n",
    "    ko, ki = cfg[\"tile_k\"].apply(s, CC, k)\n",
    "    s[CC].reorder(ko, ki, yi, xi)\n",
    "    s[CC].vectorize(xi)\n",
    "    s[CC].unroll(yi)\n",
    "    s[CC].unroll(ki)\n",
    "    \n",
    "    s[im2col].compute_at(s[C], yo)\n",
    "    yi, k = s[im2col].op.axis\n",
    "    ko, ki = s[im2col].split(k, factor=CI)\n",
    "    s[im2col].vectorize(ki)\n",
    "    #s[im2col].unroll(yi)\n",
    "\n",
    "    xo, k, xi = s[packw].op.axis\n",
    "    s[packw].reorder(xo, xi, k)\n",
    "    #s[packw].parallel(xo)\n",
    "    return s, [data, weight, C]\n"
   ]
  },
  {
   "cell_type": "code",
   "execution_count": 26,
   "id": "c3dd8d95",
   "metadata": {},
   "outputs": [
    {
     "name": "stdout",
     "output_type": "stream",
     "text": [
      "ConfigSpace (len=52920, space_map=\n",
      "   0 tile_y: Split(policy=factors, product=784, num_outputs=3) len=90\n",
      "   1 tile_x: Split(policy=factors, product=64, num_outputs=3) len=28\n",
      "   2 tile_k: Split(policy=factors, product=576, num_outputs=2) len=21\n",
      ")\n",
      "Get devices for measurement successfully!\n",
      "Get devices for measurement successfully!\n",
      "No: 1\tGFLOPS: 31.52/31.52\tresult: MeasureResult(costs=(0.0022493258,), error_no=MeasureErrorNo.NO_ERROR, all_cost=1.4011459350585938, timestamp=1646736575.5814383)\t[('tile_y', [-1, 14, 14]), ('tile_x', [-1, 1, 64]), ('tile_k', [-1, 32])],None,30207\n",
      "No: 1\tGFLOPS: 31.52/31.52\tresult: MeasureResult(costs=(0.0022493258,), error_no=MeasureErrorNo.NO_ERROR, all_cost=1.4011459350585938, timestamp=1646736575.5814383)\t[('tile_y', [-1, 14, 14]), ('tile_x', [-1, 1, 64]), ('tile_k', [-1, 32])],None,30207\n",
      "No: 2\tGFLOPS: 49.16/49.16\tresult: MeasureResult(costs=(0.0014421867999999999,), error_no=MeasureErrorNo.NO_ERROR, all_cost=0.5314652919769287, timestamp=1646736575.8333473)\t[('tile_y', [-1, 196, 2]), ('tile_x', [-1, 2, 16]), ('tile_k', [-1, 96])],None,42415\n",
      "No: 2\tGFLOPS: 49.16/49.16\tresult: MeasureResult(costs=(0.0014421867999999999,), error_no=MeasureErrorNo.NO_ERROR, all_cost=0.5314652919769287, timestamp=1646736575.8333473)\t[('tile_y', [-1, 196, 2]), ('tile_x', [-1, 2, 16]), ('tile_k', [-1, 96])],None,42415\n",
      "No: 3\tGFLOPS: 4.06/49.16\tresult: MeasureResult(costs=(0.0174526882,), error_no=MeasureErrorNo.NO_ERROR, all_cost=0.5060734748840332, timestamp=1646736577.4191613)\t[('tile_y', [-1, 2, 2]), ('tile_x', [-1, 16, 1]), ('tile_k', [-1, 4])],None,7936\n",
      "No: 3\tGFLOPS: 4.06/49.16\tresult: MeasureResult(costs=(0.0174526882,), error_no=MeasureErrorNo.NO_ERROR, all_cost=0.5060734748840332, timestamp=1646736577.4191613)\t[('tile_y', [-1, 2, 2]), ('tile_x', [-1, 16, 1]), ('tile_k', [-1, 4])],None,7936\n",
      "No: 4\tGFLOPS: 6.27/49.16\tresult: MeasureResult(costs=(0.01129944,), error_no=MeasureErrorNo.NO_ERROR, all_cost=1.145540714263916, timestamp=1646736577.8420844)\t[('tile_y', [-1, 16, 49]), ('tile_x', [-1, 2, 1]), ('tile_k', [-1, 12])],None,17803\n",
      "No: 4\tGFLOPS: 6.27/49.16\tresult: MeasureResult(costs=(0.01129944,), error_no=MeasureErrorNo.NO_ERROR, all_cost=1.145540714263916, timestamp=1646736577.8420844)\t[('tile_y', [-1, 16, 49]), ('tile_x', [-1, 2, 1]), ('tile_k', [-1, 12])],None,17803\n",
      "No: 5\tGFLOPS: 22.01/49.16\tresult: MeasureResult(costs=(0.0032219301999999997,), error_no=MeasureErrorNo.NO_ERROR, all_cost=0.2949984073638916, timestamp=1646736578.2586381)\t[('tile_y', [-1, 1, 8]), ('tile_x', [-1, 32, 2]), ('tile_k', [-1, 8])],None,13726\n",
      "No: 5\tGFLOPS: 22.01/49.16\tresult: MeasureResult(costs=(0.0032219301999999997,), error_no=MeasureErrorNo.NO_ERROR, all_cost=0.2949984073638916, timestamp=1646736578.2586381)\t[('tile_y', [-1, 1, 8]), ('tile_x', [-1, 32, 2]), ('tile_k', [-1, 8])],None,13726\n",
      "done\n"
     ]
    }
   ],
   "source": [
    "import logging\n",
    "\n",
    "N, H, W, C = 1, 28, 28, 64\n",
    "\n",
    "#with open('conv2d_3x3_gemm.dbg', 'w') as logfile:\n",
    "    \n",
    "logging.getLogger(\"autotvm\").setLevel(logging.DEBUG)\n",
    "logging.getLogger(\"autotvm\").addHandler(logging.StreamHandler(sys.stdout))\n",
    "\n",
    "task = autotvm.task.create('conv2d_3x3_gemm',\n",
    "                       args=(N, H, W, C, C, 'float32'),\n",
    "                       target=\"llvm -mcpu=skylake\")\n",
    "print(task.config_space)\n",
    "\n",
    "measure_option = autotvm.measure_option(\n",
    "    builder=autotvm.LocalBuilder(),\n",
    "    runner=autotvm.LocalRunner(number=5))\n",
    "tuner = autotvm.tuner.GATuner(task)\n",
    "tuner.tune(\n",
    "    n_trial=5,\n",
    "    measure_option=measure_option,\n",
    "    callbacks=[autotvm.callback.log_to_file(\"conv2d_3x3_gemm.log\")],\n",
    ")\n",
    "\n",
    "print(\"done\")\n",
    "    "
   ]
  },
  {
   "cell_type": "code",
   "execution_count": 27,
   "id": "80bdf847",
   "metadata": {},
   "outputs": [
    {
     "name": "stdout",
     "output_type": "stream",
     "text": [
      "Finish loading 37 records\n",
      "Finish loading 37 records\n",
      "load log ok\n",
      "0.0011130223333333333\n"
     ]
    }
   ],
   "source": [
    "import numpy as np\n",
    "tgtstr = \"llvm -mcpu=skylake\"\n",
    "dev = tvm.device(tgtstr, 0)\n",
    "with autotvm.apply_history_best(\"conv2d_3x3_gemm.log\"):\n",
    "    with tvm.target.Target(tgtstr):\n",
    "        print(\"load log ok\")\n",
    "        \n",
    "        N, C, H, W = 1,64,28,28\n",
    "        s, arg_bufs = conv2d_3x3_gemm(N, H, W, C, C,\"float32\")\n",
    "        func = tvm.build(s, arg_bufs)\n",
    "        \n",
    "        args = [\n",
    "        tvm.nd.array(\n",
    "            np.random.rand(*[a.value for a in p.shape]).astype('float32'))\n",
    "        for p in arg_bufs]\n",
    "        \n",
    "        func(*args)\n",
    "        \n",
    "        evt = func.time_evaluator(func.entry_name, dev, number=3)\n",
    "        \n",
    "        \n",
    "        print(evt(*args).mean)\n",
    "        "
   ]
  },
  {
   "cell_type": "code",
   "execution_count": null,
   "id": "c02c82a2",
   "metadata": {},
   "outputs": [],
   "source": []
  }
 ],
 "metadata": {
  "kernelspec": {
   "display_name": "Python 3 (ipykernel)",
   "language": "python",
   "name": "python3"
  },
  "language_info": {
   "codemirror_mode": {
    "name": "ipython",
    "version": 3
   },
   "file_extension": ".py",
   "mimetype": "text/x-python",
   "name": "python",
   "nbconvert_exporter": "python",
   "pygments_lexer": "ipython3",
   "version": "3.7.11"
  }
 },
 "nbformat": 4,
 "nbformat_minor": 5
}
