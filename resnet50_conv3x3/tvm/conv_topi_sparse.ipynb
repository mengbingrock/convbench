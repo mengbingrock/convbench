{
 "cells": [
  {
   "cell_type": "markdown",
   "id": "bd4fd217",
   "metadata": {},
   "source": [
    "The utility functions"
   ]
  },
  {
   "cell_type": "code",
   "execution_count": 7,
   "id": "774f7237",
   "metadata": {},
   "outputs": [],
   "source": [
    "import scipy.sparse\n",
    "import numpy as np\n",
    "import tvm\n",
    "from tvm.rpc import RPCSession\n",
    "\n",
    "def make_bsr_sparse(dense, sprate, blocksize):\n",
    "    bsrdata = scipy.sparse.bsr_matrix(dense, blocksize=blocksize)\n",
    "    # find partition value\n",
    "    summed = bsrdata.data.sum((1, 2))\n",
    "    idx = int(sprate * len(summed) + 0.5)\n",
    "    val = np.partition(summed, idx)[idx]\n",
    "    # filter the data\n",
    "    data, indices, indptr, bsrWid = [], [], [], bsrdata.indptr[1]\n",
    "    for idx, (block, indval) in enumerate(zip(bsrdata.data, bsrdata.indices)):\n",
    "        if idx % bsrWid == 0:\n",
    "            indptr.append(len(data))\n",
    "        if block.sum() >= val:\n",
    "            data.append(block)\n",
    "            indices.append(indval)\n",
    "    indptr.append(len(data))\n",
    "    # convert format\n",
    "    bsrdata2 = tuple([np.array(i) for i in [data, indices, indptr]])\n",
    "    return scipy.sparse.bsr_matrix(bsrdata2, shape=dense.shape)\n",
    "\n",
    "\n",
    "def unpack_bsr(bsrdata):\n",
    "    return bsrdata.data, bsrdata.indices, bsrdata.indptr\n",
    "\n",
    "\n",
    "def hook_method(obj, attr):\n",
    "    def real_decorator(func):\n",
    "        orig = getattr(obj, attr)\n",
    "        setattr(obj, attr, func)\n",
    "        func.orig = orig\n",
    "        func.revert = lambda: setattr(obj, attr, orig)\n",
    "        return func\n",
    "    return real_decorator\n",
    "\n",
    "\n",
    "class NonRandomFill:\n",
    "    srclst_ = []\n",
    "    \n",
    "    @classmethod\n",
    "    def set_srclst(cls, srclst):\n",
    "        cls.srclst_ = [tvm.nd.array(it) for it in srclst]\n",
    "\n",
    "    def __init__(self):\n",
    "        self.srclst = iter(self.srclst_)\n",
    "    \n",
    "    def __call__(self, tgt):\n",
    "        src = next(self.srclst)\n",
    "        tgt.copyfrom(src)\n",
    "\n",
    "\n",
    "@hook_method(RPCSession, 'get_function')\n",
    "def new_get_function(self, fname):\n",
    "    if fname == 'tvm.contrib.random.random_fill':\n",
    "        return NonRandomFill()\n",
    "    else:\n",
    "        return new_get_function.orig(self, fname)"
   ]
  },
  {
   "cell_type": "code",
   "execution_count": null,
   "id": "ced13fa1",
   "metadata": {},
   "outputs": [],
   "source": [
    "import tvm\n",
    "import numpy as np\n",
    "from tvm import autotvm, te, tir\n",
    "from functools import partial, reduce\n",
    "N, H, W, CI = 1, 28, 28, 64\n",
    "CO = 64\n",
    "Y, X, K = N*H*W, CO, 9*CI\n",
    "sprate = 0.9\n",
    "nhwc_data = np.random.randint(0, 256, (N, H, W, CI)).astype('float32')\n",
    "weight_ohwi = np.random.rand(CO, 3*3*CI).astype('float32')\n",
    "spweight_ohwi = make_bsr_sparse(weight_ohwi, sprate, (4, 1))  \n",
    "ret = np.zeros((N*H*W, CO), dtype='float32')\n",
    "\n",
    "\n",
    "nElems, bsrR, bsrC = spweight_ohwi.data.shape\n",
    "args = (N, H, W, CI, CO, *spweight_ohwi.data.shape, 'float32')\n",
    "\n",
    "\"\"\"\n",
    "print(\"args=\",args)\n",
    "print(\"nhwc_data=\",nhwc_data)\n",
    "#print(\"spweight_ohwi.data=\",spweight_ohwi.data)\n",
    "print(spweight_ohwi.nnz)\n",
    "print(spweight_ohwi.data)\n",
    "print(spweight_ohwi.indices)\n",
    "print(spweight_ohwi.indptr)\n",
    "\"\"\""
   ]
  },
  {
   "cell_type": "code",
   "execution_count": null,
   "id": "576dc375",
   "metadata": {},
   "outputs": [],
   "source": [
    "\n",
    "#def spconv2d_3x3_gemm(N, H, W, CI, CO, nElems, bsrR, bsrC, dtype='float32'):\n",
    "dtype = 'float32'\n",
    "Y, X, K = N*H*W, CO, 9*CI\n",
    "cfg = autotvm.get_config()\n",
    "cfg.define_split(\"tile_y\", Y, num_outputs=3)\n",
    "cfg.define_split(\"tile_x\", X // bsrR, num_outputs=2)\n",
    "cfg.add_flop(Y * (nElems * bsrC * bsrR * 2 - X))\n",
    "#cfg.define_split(\"tile_k\", K, num_outputs=2)\n",
    "if cfg.is_fallback:\n",
    "    cfg['tile_y'] = autotvm.task.space.SplitEntity([-1, 160, 8])\n",
    "    cfg['tile_x'] = autotvm.task.space.SplitEntity([-1, 4])\n",
    "\n",
    "Data = te.placeholder((N, H, W, CI), dtype=dtype, name='Data')\n",
    "Wdat = te.placeholder((nElems, bsrR, bsrC), name='Wdat')\n",
    "Wind = te.placeholder((nElems,), dtype='int', name='Wind')\n",
    "Wptr = te.placeholder((X // bsrR + 1,), dtype='int', name='Wptr')\n",
    "idxsplit = lambda x,y: reduce(lambda a,b: a[:-1]+[a[-1]%b,a[-1]//b], y, [x])\n",
    "\n",
    "@partial(te.compute, (Y, K), name='Im2Col')\n",
    "def Im2Col(row, col):\n",
    "    jw, jh, jn = idxsplit(row, [W, H])\n",
    "    jc, kw, kh = idxsplit(col, [CI, 3])\n",
    "    ih, iw = jh + kh - 1, jw + kw - 1\n",
    "    return tir.if_then_else(\n",
    "        tir.all(0 <= ih, ih < H, 0 <= iw, iw < W),\n",
    "        Data[jn, ih, iw, jc], 0)\n",
    "\n",
    "@partial(te.compute, (Y, X // bsrR, bsrR, bsrC), name='CC')\n",
    "def CC(drow, wrow, brow, bcol):\n",
    "    row_start, row_end = Wptr[wrow], Wptr[wrow+1]\n",
    "    elem_idx = te.reduce_axis((0, row_end - row_start), name='elem_idx')\n",
    "    elem = row_start + elem_idx\n",
    "    return te.sum(Im2Col[drow, Wind[elem]*bsrC + bcol] * Wdat[elem, brow, bcol], axis=elem_idx)\n",
    "\n",
    "k = te.reduce_axis((0, bsrC), name='k')\n",
    "C = te.compute((Y, X), lambda y, x: te.sum(CC[y, x // bsrR, x % bsrR, k], axis=k), name='C')\n",
    "\n",
    "s = te.create_schedule(C.op)\n",
    "y, x = s[C].op.axis\n",
    "yt, yo, yi = cfg['tile_y'].apply(s, C, y)\n",
    "xo, xi = s[C].split(x, factor=bsrR)\n",
    "xt, xo = cfg['tile_x'].apply(s, C, xo)\n",
    "(k,) = s[C].op.reduce_axis\n",
    "s[C].reorder(yt, xt, yo, xo, yi, xi, k)\n",
    "s[C].unroll(k)\n",
    "s[C].vectorize(xi)\n",
    "s[C].unroll(yi)\n",
    "\n",
    "s[CC].compute_at(s[C], xo)\n",
    "yi, xi, r, c = s[CC].op.axis\n",
    "(k,) = s[CC].op.reduce_axis\n",
    "s[CC].reorder(xi, k, yi, r, c)\n",
    "s[CC].unroll(c)\n",
    "s[CC].vectorize(r)\n",
    "s[CC].unroll(yi)\n",
    "\n",
    "s[Im2Col].compute_at(s[C], yo)\n",
    "yi, k = s[Im2Col].op.axis\n",
    "ko, ki = s[Im2Col].split(k, factor=CI)\n",
    "s[Im2Col].vectorize(ki)\n",
    "#s[Im2Col].unroll(yi)\n",
    "#return s, [Data, Wdat, Wind, Wptr, C]"
   ]
  },
  {
   "cell_type": "code",
   "execution_count": null,
   "id": "56b5c4d1",
   "metadata": {},
   "outputs": [],
   "source": [
    "#print(tvm.lower(s, [Data, Wdat, Wind, Wptr, C], simple_mode=True))"
   ]
  },
  {
   "cell_type": "code",
   "execution_count": null,
   "id": "61025171",
   "metadata": {},
   "outputs": [],
   "source": [
    "func = tvm.build(s, [Data, Wdat, Wind, Wptr, C])"
   ]
  },
  {
   "cell_type": "code",
   "execution_count": null,
   "id": "874dc06b",
   "metadata": {},
   "outputs": [],
   "source": [
    "output_placeholder = tvm.nd.array(np.zeros((Y,CO)).astype('float32'))\n",
    "args = (tvm.nd.array(nhwc_data), \n",
    "        tvm.nd.array(spweight_ohwi.data), \n",
    "        tvm.nd.array(spweight_ohwi.indices), \n",
    "        tvm.nd.array(spweight_ohwi.indptr), \n",
    "        output_placeholder)"
   ]
  },
  {
   "cell_type": "code",
   "execution_count": 7,
   "id": "34d41539",
   "metadata": {},
   "outputs": [],
   "source": [
    "func(*args)"
   ]
  },
  {
   "cell_type": "code",
   "execution_count": 8,
   "id": "2856bdef",
   "metadata": {},
   "outputs": [],
   "source": [
    "#print(output_placeholder)"
   ]
  },
  {
   "cell_type": "code",
   "execution_count": 9,
   "id": "b39afdd7",
   "metadata": {},
   "outputs": [
    {
     "name": "stdout",
     "output_type": "stream",
     "text": [
      "0.0005105583333333333\n"
     ]
    }
   ],
   "source": [
    "tgtstr = \"llvm -mcpu=skylake\"\n",
    "dev = tvm.device(tgtstr, 0)\n",
    "evt = func.time_evaluator(func.entry_name, dev, number=3)\n",
    "print(evt(*args).mean)"
   ]
  },
  {
   "cell_type": "code",
   "execution_count": null,
   "id": "624ebf22",
   "metadata": {},
   "outputs": [],
   "source": []
  }
 ],
 "metadata": {
  "kernelspec": {
   "display_name": "Python 3 (ipykernel)",
   "language": "python",
   "name": "python3"
  },
  "language_info": {
   "codemirror_mode": {
    "name": "ipython",
    "version": 3
   },
   "file_extension": ".py",
   "mimetype": "text/x-python",
   "name": "python",
   "nbconvert_exporter": "python",
   "pygments_lexer": "ipython3",
   "version": "3.7.11"
  }
 },
 "nbformat": 4,
 "nbformat_minor": 5
}
